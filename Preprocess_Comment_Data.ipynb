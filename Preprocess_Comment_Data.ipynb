{
 "cells": [
  {
   "cell_type": "code",
   "execution_count": 1,
   "id": "8702a407",
   "metadata": {},
   "outputs": [],
   "source": [
    "import pandas as pd"
   ]
  },
  {
   "cell_type": "code",
   "execution_count": 2,
   "id": "56324ad4",
   "metadata": {},
   "outputs": [],
   "source": [
    "df=pd.read_csv('combined_comments.csv')"
   ]
  },
  {
   "cell_type": "code",
   "execution_count": 3,
   "id": "8191f156",
   "metadata": {},
   "outputs": [
    {
     "data": {
      "application/vnd.microsoft.datawrangler.viewer.v0+json": {
       "columns": [
        {
         "name": "index",
         "rawType": "int64",
         "type": "integer"
        },
        {
         "name": "Document ID",
         "rawType": "object",
         "type": "string"
        },
        {
         "name": "Comment",
         "rawType": "object",
         "type": "unknown"
        }
       ],
       "ref": "c52cd0bc-2873-491b-b1a7-10b86e709626",
       "rows": [
        [
         "0",
         "CDC-2025-0454-0002",
         "The new restrictions on COVID vaccines only make it more difficult for those to get it who want it. The ACIP must do the following:\n\n1. Keep COVID vaccines on the shared clinical decision making list\n\n2. Maintain a universal vaccine recommendation for all ages, which includes a multi-dose priming series \n\n3. For those 65+, permit 2 doses per year, and more if previously unvaccinated and receiving Novavax or immunocompromised\n\n4. For persons 6 months+ who are moderately or severely immunocompromised, approve an initial series if unvaccinated, followed by 2 doses per year while allowing additional doses to be given under shared clinical decision-making\n\n5. Ensure insurance coverage for everyone receiving a COVID vaccine, \n\n6. Restore the BRIDGE access program\n\n7. Recommend Novavax for pediatric populations\n\nFinally, the previous ACIP must be reinstated, as this current one is illegitimate and appointed by the health secretary who doesn't know what he's doing. Support the Vaccine Act S.2483 and reinstate the previous ACIP, as this one is compromised and beholden to the whatever RFK pretends is science. "
        ],
        [
         "1",
         "CDC-2025-0454-0003",
         "Please follow the science and not politics. The decisions made here will change people's lives. We need doctors making these decisions based on solid research and not unproven radical theories. \n"
        ],
        [
         "2",
         "CDC-2025-0454-0004",
         "Each year on July 28, we come together to recognize World Hepatitis Day, a global moment to raise awareness, celebrate progress, and renew our commitment to eliminating viral hepatitis. At NASTAD, we are proud to work alongside advocates, policymakers, and public health leaders to advance  equitable access for solutions to the hepatitis B and C viruses (HBV and HCV.)  \n\nThis year marks a major policy milestone in the United States: the Cure Hepatitis C Act of 2025,  a bipartisan effort introduced by Senators Bill Cassidy (R-LA) and Chris Van Hollen (D-MD). The Cure Hepatitis C Act of 2025 offers a comprehensive strategy that includes expanding hepatitis C access to testing and treatment, strengthening public health infrastructure at the state and local levels, and implementing a cost-saving subscription model to purchase hepatitis C medications through registered pharmacies, correctional systems, and the Indian Health Services. The legislation  empowers community health centers, opioid treatment programs, and correctional facilities to integrate hepatitis C services and advance hepatitis B prevention and treatment efforts, including support for point-of-care testing and linkage to care. NASTAD played a key role in supporting the development of this legislation and continues to advocate for its passage to help ensure everyone with HCV has access to timely, life-saving care. \n\nReaffirming the Importance of the Hepatitis B Birth Dose \n\nAs we highlight our progress, it’s also crucial to reinforce the need to protect evidence-based prevention efforts, particularly the hepatitis B birth dose vaccine.  Recognized as one of the first anti-cancer vaccines, the HBV vaccine is part of the national immunization schedules in 190 countries, including the United States. However, the hepatitis B birth dose specifically is only included in 113 countries. Studies show that administering the first dose within 24 hours of birth, followed by at least two subsequent doses, is 90% effective in preventing perinatal transmission. The introduction of the hepatitis B vaccine in the childhood vaccination schedule in 1991 in the United States has been the primary driver of the substantial decrease in prevalence of hepatitis B among persons 6–19 years of age. Despite decades of safety data and the successful reduction of childhood hepatitis B in the U.S., the universal hepatitis B birth dose recommendation is under threat. Global research has shown that even in regions where public health infrastructure is burdened by substantial health system barriers such as sub-Saharan Africa1,2,3, southeast Asia, and western Pacific countries, the HBV birth dose vaccine significantly reduced the risk of vertical transmission. Reversing course and implementing a targeted hepatitis B vaccination program has beendemonstrated to be ineffective in countries such as Greenland, Brazil, and Angola. Inclusively, this approach  was shown to complicate guidelines and requires substantial efforts for selecting infants at risk in addition to stigmatizing pregnant people. Additionally, HBV prevention strategies that include interventions to prevent perinatal transmission are considered very cost-effective, with an incremental cost-effectiveness ratio of $6957 per quality-of-life-adjusted life year saved.  In the United States, jurisdictions such as Hawaii have decades of experience demonstrating the life impact of the hepatitis B birth dose. In 1992, Hawaii implemented routine infant hepatitis B vaccination and according to Perz, et al. the last reported case in a child aged <15 years in Hawaii occurred in 1996. Additionally, the hepatitis B vaccination prevents hepatitis D, a virus that requires the hepatitis B virus for its replication. Globally, hepatitis D affects  nearly 5% (an estimated 12 million) of people who have chronic HBV. On July 27, 2025, the International Agency for Research on Cancer (IARC) classified hepatitis D as carcinogenic to humans. According to Dr. Meg Doherty, incoming Director of Science for Health at the World Health Organization, “this reclassification marks a critical step in global efforts to raise awareness, improve screening, and expand access to new treatments for hepatitis D.”  \n\nLooking Ahead  \n\nWorld Hepatitis Day is a time to reflect, but more importantly,  to act. With the Cure Hepatitis C Act of 2025 and renewed attention to hepatitis B prevention such as immunization, let’s  build on this momentum with evidence-based policies, person-centered care and community-led action. As Dr. Michelle D. Fiscus, MD, FAAP, pediatrician and Chief Medical Officer from the Association of Immunization Managers states  “The recommendation to provide hepatitis B vaccination to every baby not only significantly reduces the chance of a baby contracting hepatitis B from a mom who may not have been tested or know she's infected, but also gives us a chance to eliminate hepatitis B disease in the U.S completely.” "
        ],
        [
         "3",
         "CDC-2025-0454-0005",
         "The ACIP must uphold evidence-based immunization policies grounded in rigorous science to protect public health. Recent changes, including the replacement of 17 expert members with individuals lacking vaccinology expertise and ties to anti-vaccine advocacy, risk undermining this mission. The committee’s position on immunizations should prioritize peer-reviewed data, transparency, and expertise to ensure safe, effective vaccine recommendations.\n\nACIP should reaffirm its commitment to established vaccines like hepatitis B, MMRV, and COVID-19, which have proven safety and efficacy in preventing severe outcomes. For example, data from 2025 shows COVID-19 vaccines reduce hospitalization in children and pregnant women, yet unilateral removals of these recommendations threaten access. With measles cases surging (1,300+ in 2025), ACIP should maintain robust childhood immunization schedules and Vaccines for Children program eligibility to prevent outbreaks and ensure affordability.\n\nThe committee should reject non-evidence-based claims, such as thimerosal’s alleged harms, debunked by decades of research. Its position must align with GRADE analyses and input from medical societies like the AMA and IDSA, excluded from recent deliberations. Restoring open work groups and expert-led processes is critical to counter the \"irresponsible and dangerous\" shift critics, including former CDC directors, have warned against.\n\nACIP’s recommendations shape insurance coverage and public trust. A science-driven stance will prevent confusion, reduce costs, and protect vulnerable populations. I urge the committee to postpone the September 2025 meeting, reinstate qualified experts, and ensure all immunization policies reflect rigorous, transparent science to safeguard lives."
        ],
        [
         "4",
         "CDC-2025-0454-0006",
         "Vaccines are proven science. The hysteria that the head of the health department keeps trying to push forward is not based on science. The CDC is a critical part of our protection and health safety. The leader and the organization as a whole must be able to enforce scientific findings, not hearsay and conjecture. The fact that so many structures are established around the CDC means that its impact is felt in amevery aspect of our lives. It must continue to work to protect those most in vulnerable and Americans as a whole.  It should be an independent structure unswayed by political leaning and influence. "
        ],
        [
         "5",
         "CDC-2025-0454-0007",
         "Regulations to limit or restrict access to vaccines that save lives is an absolute outrage. I also remember RFK, Jr. promised during his confirmation hearings that anyone who wanted a vaccine could receive one. Either he lives up to that or should be charged with lying to Congress. Public health should be your FIRST concern. A commitment to science is a no-brainer. If US residents are not permitted to receive adequate medical care and immunization, people will die. PEOPLE WILL DIE. And we will begin a death count attributed to this \"administration.\"  (NB: I am an American living abroad. The address below is my voting address.)"
        ],
        [
         "6",
         "CDC-2025-0454-0008",
         "Regarding Covid-19 vaccines: Covid-19 is the leading of disabilities in children in the United States right now. Covid-19 triggered type 1 diabetes in children. It also triggers similar conditions in adults and then some. By limiting Covid-19 vaccines to elderly and immunocompromised, you defeat the purpose of what we community immunity which these people rely upon. By limiting access to these vaccines, you endanger medical providers and you render immunoglobulin replacement therapies useless. Furthermore, if rumors are true that you’re considering banning these vaccines, you drive up costs for healthcare because immunocompromised will be forced to get prescriptions for PEMGARDA. Which is substantially more expensive than covid vaccines. At a time when hospitals are already reporting being full, restricting access to COVID vaccines is stupid. \n\nHepatitis B vaccine - this one is newer to me so I’m not sure I had it. But if you can prevent the development of liver cancer, why would you not do that? \n\nAh, yes, the MMR/MMR-V. Are you ready for the reality? These vaccines still don’t cause autism. However, rubella babies like myself have a higher incidence rate of autism. And measles is definitely not desirable nor is chickenpox. These conditions can cause lifelong issues such as the hearing loss for which I am finally going to get hearing aids. Thanks Kennedy for leading to my contracting measles! Autistics like me will never forgive Kennedy. \n\nThe RSV vaccine will help babies annd immunocompromised not have asthma or asthma exacerbations later. RSV is no fun. Many babies have ended up hospitalized because of RSV. \n\nKennedy told Congress no one should be taking medical advice from him and by extension that includes anyone he has appointed. \n"
        ],
        [
         "7",
         "CDC-2025-0454-0009",
         "I have no financial conflicts of interest.\n\nVaccines keep me and my community and the places I visit, like Yellowstone National Park, safe.\n\nWe need immediate access to the updated COVID vaccines for people of all ages,all medical conditions, and from all zip codes, at least once a year.\n\nA strong recommendation from the CDC ACIP committee is needed for insurance coverage, Vaccines for Children coverage, and state vaccine program coverage. No one should be required to get a prescription for COVID vaccination.\n\nCDC ACIP expert advisors must take action to support widespread and unhindered access to a vaccines to protect people of all ages in the US, including Hepatitis B, RSV, and MMR/MMRV vaccines."
        ],
        [
         "8",
         "CDC-2025-0454-0010",
         "There is no discussion to be had. Vaccines save lives. mRNA vaccines for Covid are safe and effective. Real doctors, not grifting lawyers, should be making decisions on vaccine policy. And we are not going to lie down and die to accommodate RFK Jr's grifting or anyone else's cowardice."
        ],
        [
         "9",
         "CDC-2025-0454-0011",
         "RFK is a danger to public health and to this country. It is one thing to give people a choice as to if they want vaccinations or not but hindering people from being able to get a vaccine if they want it, is absolutely unjust. Requiring a prescription for the Covid vaccine is outrageous and hinders care. What will cost insurance companies and this country more? A vaccine or possible hospitalization due to a potentially preventable illness? Please do not let this insane human destroy our freedoms and country. Please let research and science win. "
        ],
        [
         "10",
         "CDC-2025-0454-0012",
         "We need universal COVID vaccines for all Americans and people living in America. "
        ],
        [
         "11",
         "CDC-2025-0454-0013",
         "Between prescriptions for prednisone, biologics, and other immune suppressing medicaton, plus condition such as age, diabetes. COPD, and asthma, about 40% of American adults are at high risk. This 40% also has family, household members, and caregivers who need to be protected so that they do not carry the disease into the homes of the above 40%. At that point, well over half the population  has a serious need for the vaccines; you might as well approve them for everyone."
        ],
        [
         "12",
         "CDC-2025-0454-0014",
         "The COVID vaccines has saved countless lives and MUST be available to all. As an immunocompromised adult, I am appalled that the CDC would disregard science and limit availability of this crucial vaccine."
        ],
        [
         "13",
         "CDC-2025-0454-0015",
         "It is well known that the COVID-19 mRNA vaccine has saved countless lives. They are safe and there has been countless studies on their safety which anyone with basic access to Google should be able to find. Without scientific evidence to the contrary, it is ludicrous to question the safety of the COVID 19 vaccine or any other vaccine. It is also well known that several current members of the Advisory Committee on Immunization have long standing and established ties to spreading vaccine disinformation that should disqualify them from ever serving on the committee. They are a disgrace to the Advisory Committee on Immunization and should be removed immediately and replaced with vaccine experts that are well established and respected in the public health field. My recommendations are as follows:\n\n1. Remove any current advisory committee on immunization members who have an established history of spreading vaccine misinformation or established ties to organizations that spread vaccine misinformation, such as the children's health dense.\n2. Make it an established rule that future ACIP members must not have any established connections to spreading vaccine disinformation or ties to organizations that spread disinformation.\n3. Make it a rule that current and future members must be qualified to serve on the council through a through vetting process that weeds out any members who have an established history of spreading vaccine misinformation or ties to organizations that spread vaccine misinformation "
        ],
        [
         "14",
         "CDC-2025-0454-0016",
         "We Need Immediate Universal Access to COVID Vaccines and All Vaccines. Lives depend on it. Mr. Kennedy is not a scientist, he is an admitted conspiracy theorists. The pictures of him taking his grandchildren swimming in a creek fouled with human sewage is top of mind.\n\nWe are now facing delayed access to updated COVID vaccines, unscientific restrictions to vaccine access, and possible additional actions by CDC ACIP to restrict COVID vaccine access further.\n\nI am suffering from long COVID, I've lost 35 pounds and can't taste or smell anything. More than a million people in the US have died of COVID. Children are dying of measles, a disease that had been essentially erradicated. WE NEED ACCESS TO VACCINES NOW!"
        ],
        [
         "15",
         "CDC-2025-0454-0017",
         "Universal access to Covid 19 Vaccines:  We need immediate, universal access to the updated COVID vaccines for people of all ages, and regardless of medical conditions, at least once a year.  \n\nA strong recommendation from the CDC ACIP committee is needed for insurance coverage, Vaccines for Children coverage, and state vaccine program coverage. Prescriptions must not be required for COVID vaccination.\n\nCDC ACIP expert advisors must take action to support widespread and unhindered access to a wide range of safe and effective vaccines to protect people of all ages in the US, including Hepatitis B, RSV, and MMR/MMRV vaccines.\n\nVaccination for a broad range of infectious diseases has positively impacted me and my community.   The Covid-19 vaccine has kept me and my loved ones and neighbors out of the hospital. Seamless access is vital.  A wrench has been thrown into the whole system.  The science hasn't changed; this is very unnecessary.  The addition of Novavax as an option for the Covid-19 vaccine has also been extremely beneficial for myself and others.   Covid-19 in particular is not something to play around with.  The more infections the more one is at risk for long covid or acceleration of other conditions or emergence of new underlying conditions that one did NOT have before a covid infection.    \nI hope you move swiftly to improve access. Right now, in certain states pharmacies feel stymied in terms of ordering and administering.  Even though one may qualify with your existing guidance, you can't be sure you can get it.  We need to remove barriers.   Thank you. Patricia Tobin\n"
        ],
        [
         "16",
         "CDC-2025-0454-0018",
         "I had serious life-threatening complications from Covid in 2020. It is extremely important to me to have regular Covid boosters. I am horrified by the current chaos at the CDC and the attacks on the experts. It is crucial for everyone to have access to these life-saving vaccines. (And other vaccines as well -- but I understand that this comment is about the Covid vaccines in particular.)"
        ],
        [
         "17",
         "CDC-2025-0454-0019",
         "I am a pediatrician who cares for children in Seattle WA. Universal Hepatitis B vaccination for newborns has been incredibly safe and effective, reducing neonatal Hepatitis B infection from 18,000 per year by 98% to fewer than 200 per year in the US. Infection does not have an effective cure, and is the leading cause of hepatocellular carcinoma (HCC), a deadly liver cancer that has a 5-year survival of only 21%. The importance of universal Hepatitis B vaccination for newborns cannot be overstated.  "
        ],
        [
         "18",
         "CDC-2025-0454-0020",
         "Restricting the updated covid vaccine to adults 65 and older is a grave error that will endanger American lives. The broad America public needs access to the COVID vaccine. Vaccines work best when a majority of the population can easily access "
        ],
        [
         "19",
         "CDC-2025-0454-0021",
         "COVID-19 is currently surging across the nation. As an educator on a college campus, I am terrified about what this most recent wave will do not only to me but to the student communities that I serve as it rips through the close quarters of classrooms and dorms. There is a reason why the CDC recommends the flu vaccine every year, despite the fact that healthy adults without preexisting conditions are less likely to get seriously sick from it-- because even a few days of illness takes them away from their job and education and allows the disease to spread further, threatening more vulnerable populations. The same principle applies to COVID-19, except that COVID-19 should be taken even more seriously as scientific research has shown that repeat exposures worsen the disease's impact on the body and brain, and any exposure could lead to long COVID and longterm disability.\n\nI have a right to make my own healthcare decisions, a right which is infringed upon by outright denying my access to a safe, effective vaccine (or requiring a prescription for it). We need immediate universal access to COVID vaccines."
        ],
        [
         "20",
         "CDC-2025-0454-0022",
         "Thank you for acknowledging the public's collective Knowledge about life-saving vaccines and the Covid vaccine. Thank you for recognizing the absolute PROOF of lifesaving vaccines in that Americans are no longer dying 1 of 3 of Small Pox! Nor do current generations have experience if Iron Lungs and death or paralysis due to Polio. Vaccines are safe and effective. We see what happens when people do not vaccinate their children as in the current Measles spread, the highest since 2000 when Measles was extinguished. Today, at least 2 children and 1 adult have died due to being Unvaccinated, a real tragedy of the Antivax Rhetoric and lies propagated by RFK, Jr. With millions of educated knowledgeable people both with. Medical degrees and some with related knowledge, it is insane that Kennedy continues his obstinate destructive course that will kill many, many people from preventable diseases. We know the COVID vaccine protects not only oneself, but also the people around us. Hence, a classroom of vaccinated children is less likely to be a highly contagious population that carries COVID home and out to the community. Infants who are vaccinated are given a chance to enjoy a lifespan of 75 years or more due to the success and safety of vaccines. Kennedy's edicts are not based in proven science and medicine. He is not only ignorant of both, he is obdurate that people don't need vaccines and the \"strong\" will survive. Eugenics has been debunked and recognized as a horrifying AntiLife anti-people prejudice especially demonstrated how vile by Hitler's regime. The current ACIP is loaded with Antivaxxers hand-picked by Kennedy to goose-step to his insane edicts. Withholding widespread access to lifesaving vaccines is HEINOUS and criminal. Hundreds of millions of Americans and across the globe recognize the dire consequences of Kennedy's anti-vax fear-mongering and withholding of lifesaving vaccines. Please look to the wisdom of all the professional Medical associations who decry such actions and return to the Expert schedule of vaccines and availability for all. Thank you for reading my comment. "
        ],
        [
         "21",
         "CDC-2025-0454-0023",
         "As a mother of two young children, I am deeply concerned about the CDC’s current approach to COVID vaccine access. I want protection not only for my family, but also for my greater community. Every barrier placed in front of vaccination, like requiring prescriptions or limiting eligibility, puts children, parents, and vulnerable neighbors at greater risk.\n\nWe need immediate, universal access to updated COVID vaccines for people of all ages, at least once a year, without unnecessary prescriptions or restrictions. The science is clear: these vaccines reduce serious illness, hospitalization, disability, and death. Shared decision-making models are not enough. Families like mine do not always have easy or timely access to doctors who can write prescriptions, especially in rural areas or for people working long hours.\n\nThis committee must ensure vaccines are widely available at pharmacies, covered by insurance, and accessible through programs like Vaccines for Children. Restricting access not only undermines science, it endangers our health. COVID vaccines, along with other essential immunizations such as Hepatitis B, RSV, MMR, and MMRV, must remain readily available to prevent needless illness and loss of life.\n\nI urge you to reinstate strong, universal recommendations that allow families like mine to keep our kids, our parents, and our communities safe. Vaccines work only when people can access them."
        ],
        [
         "22",
         "CDC-2025-0454-0024",
         "Please get the latest covid vaccine out to the public as soon as possible! I have been getting this vaccine along with the flu vaccine every year. I went in to get both vaccines this weekend, and they had the flu one, but they said the covid one is not available yet, and they don't even know if it will be available this year. I work in a public facing job, very exposed, and need these vaccines! My partner was killed by covid, and my life without him has been filled with that loss. If you cut us all off from this necessary vaccine, we will be right back where we were in 2020, before vaccines, when people were dying by the tens of thousands. So many lives will be devastated. How can you simply deny us what is right there, ready to save lives, and just refuse to let us have it? I don't understand such stupidity and heartlessness! Please, please, let us have our vaccine!"
        ],
        [
         "23",
         "CDC-2025-0454-0025",
         "My neighborhood in Queens was once the epicenter of the epicenter of the COVID-19 pandemic. I will never forget the shock of going for an evening walk during quarantine and stumbling upon the refrigerated truck for bodies outside of our local hospital. That moment is seared into my memory. But I also remember the overwhelming sense of hope when the vaccine first became available and how smooth and dignified the process was, how grateful my neighbors and I felt. It was a powerful testament to what’s possible when science, public health, and government work together. I'm terrified to see that progress rolled back. \n\nWe need universal, annual access to updated COVID vaccines for all ages, without prescriptions or arbitrary restrictions. A strong recommendation from the CDC ACIP is essential to ensure coverage through insurance, Vaccines for Children, and state programs.\n\nCOVID is still very much here. People are still vulnerable, even those under 65 or without preexisting conditions. Your job is to protect the public, not create barriers to protection.\n\nWe also need expanded access to all essential vaccines, including RSV, Hepatitis B, MMR/MMRV, without delay or restriction.\n\nThe time for half-measures is over. Lives are literally on the line!"
        ],
        [
         "24",
         "CDC-2025-0454-0026",
         "Stop messing around with peoples lives. West Coast is exploding with COVID right now. Available pharmacies  in my area ( Southwestern Oregon )with any COVID vaccines 0, newer or older formulas included. This falls right at the CDC and RFK Jr’s feet. Is he trying to out do Trump’s death toll. Science before paranoid conspiracy theories."
        ],
        [
         "25",
         "CDC-2025-0454-0027",
         "All people must have immediate and universal access to the updated COVID vaccines, regardless of medical conditions, at least TWICE a year. Studies have shown that COVID immunity fades much faster than immunity from other vaccines, and COVID has shown to have a winter wave AND a summer wave. COVID vaccines should not require a prescription and should be covered by insurance because it benefits EVERYONE.\nACIP must take action to support universal access to a range of safe and effective vaccines for COVID as well as Hepatitis B, RSV, and MMR/MMRV vaccines."
        ],
        [
         "26",
         "CDC-2025-0454-0028",
         "We will remember this when we hold Nuremberg trials.\n\nGive us the damn vaccines, you monsters."
        ],
        [
         "27",
         "CDC-2025-0454-0029",
         "What's most important, is that we need immediate, universal access to the updated COVID vaccines for people of all ages, and regardless of medical conditions, at least once a year.  The current vaccines have been proven to be safe and effective and preventing severe disease, but only when people have access to them.\n\nThe CDC ACIP committee needs to make a string recommendation for these vaccines to ensure insurance coverage, Vaccines for Children coverage, and state vaccine program coverage. Prescriptions must not be required for COVID vaccination. Protecting public health requires the removal of barriers to access and the cost of vaccine and the prescription requirement are high barriers for many to overcome. You must take action to support widespread and unhindered access to a wide range of safe and effective vaccines to protect people of all ages in the US, including Hepatitis B, RSV, and MMR/MMRV vaccines."
        ],
        [
         "28",
         "CDC-2025-0454-0030",
         "Make Novavax vaccine available ASAP.  Novavax should be the default covid vaccine as it's traditional protein technology.  I had severe allergies to the mRNA covid vaccines I took and no side effects from Novavax.  Novavax is the only covid vaccine I'll take.  "
        ],
        [
         "29",
         "CDC-2025-0454-0031",
         "Covid vaccines should be accessible to anyone who wants them. There is no good reason to restrict access to a vaccine that has been widely tested and shows incredible efficacy in preventing illness and death. All three covid vaccines should be available to every American, and frankly they should be free for everyone."
        ],
        [
         "30",
         "CDC-2025-0454-0032",
         "The new restrictions on COVID vaccines only make it more difficult for those to get it who want it. The ACIP must do the following:\n\n1. Keep COVID vaccines on the shared clinical decision making list\n\n2. Maintain universal vaccine recommendation for all ages, which includes a multi-dose priming series\n\n3. For 65+, allow 2 doses per year, and more if previously unvaccinated and receiving Novavax or immunocompromised\n\n4. For persons 6 months+ who are moderately or severely immunocompromised, approve an initial series if unvaccinated, followed by 2 doses per year while allowing additional doses to be given under shared clinical decision-making\n\n5. Ensure insurance coverage for everyone receiving a COVID vaccine\n\n6. Restore the BRIDGE access program\n\n7. Recommend Novavax for pediatric populations\n\nVaccines against COVID-19 play a critical role in reducing the risk of Long COVID, which can be a debilitating illness that presents with multisystemic complications after a COVID-infection. Vaccination also is helpful in reducing the severity of the illness and reducing hospitalization rates. "
        ],
        [
         "31",
         "CDC-2025-0454-0033",
         "Please approve all covid vaccines, including Novavax without restriction for anyone who wants one as promised by your department to \"Keeps vaccines avail for anyone who wants them\". By restricting access to vulnerable people/over 65, you are going to increase the deaths and serious outcomes for everyone. Long covid can happen to anyone and a terrible amount have already been disabled by it."
        ],
        [
         "32",
         "CDC-2025-0454-0034",
         "Please continue to allow access to COVID vaccines for all adults and children. This is a key tool I use to help keep my family safe and healthy."
        ],
        [
         "33",
         "CDC-2025-0454-0035",
         "I am extremely alarmed and dismayed by the actions of the administration, headed by RFK Junior to dismantle the CDC and the legitimacy of vaccines. He has undermined expertise, the scientific method, and a legitimacy of our public health infrastructure. I noticed that the hepatitis B, Covid, RSV and MMR vaccinations are up for discussion at this meeting. I don’t even understand why hepatitis B and MMR are being discussed. These are well established vaccines that have prevented thousands and thousands of deaths and have a great safety profile. Anything to restrict access to these vaccines will cause harm to the health of our nation, particularly children. We have just experienced the largest measles outbreak in over 30 years. It was made worse by the lies promulgated by RFK Junior. Likewise, the attacks on the safety and efficacy of the Covid vaccine and mRNA technology in general are unwarranted and not supported by the evidence. I urge the members of this committee to standby the recommendations of well respected bodies, such as the AAP and the IDSA. Stop this unprecedented assault on public health, scientists and  physicians."
        ],
        [
         "34",
         "CDC-2025-0454-0036",
         "I’m writing to add yet another of thousands upon thousands of voices calling for decisive action in terms of securing full access to updated annual COVID vaccines. It is shocking and shameful that the public needs to advocate to such a fundamental medical right, but here we are. Vaccines, for many different diseases, save literally MILLIONS of lives. \n1-We need immediate, universal access to the updated COVID vaccines for people of all ages, and regardless of medical conditions, at least once a year.\n2-We ALSO need a strong recommendation from the CDC ACIP committee for insurance coverage, Vaccines for Children coverage, and state vaccine program coverage. Prescriptions must not be required for COVID vaccination.\n3-CDC ACIP expert advisors must take action to support widespread and unhindered access to a wide range of safe and effective vaccines to protect people of all ages in the US, including Hepatitis B, RSV, and MMR/MMRV vaccines.\n\nVaccines have meant that my family and my communities (throughout my entire life) do not worry about small pox or iron lungs. They make schools, churches, workplaces, and airplanes vastly safer, because people aren’t catching measles every few months (with 1-4 of those people dying for every 1,000 measles cases). The COVID vaccines specifically are the reason that more than 3,000,000 Americans are not dead right now. Think about that for just a minute…Three. Million. People. \n\nDo your job. Do your duty. Enable vaccine access for all. "
        ],
        [
         "35",
         "CDC-2025-0454-0037",
         "You need to approve Covid vaccines for anyone who wants them FULL STOP. Millions of people in this country alone have taken multiple shots safely. And have avoided severe disease and hospitalization as a result. You do NOT have the right to deny them access based on your own ill informed prejudices. "
        ],
        [
         "36",
         "CDC-2025-0454-0038",
         "\nTo the Advisory Committee on Immunization Practices- ACIP:\n\nMy name is Dr Beth Weitensteiner.  I am a family medicine physician and site medical director in Seattle, Washington.  I strongly urge the Advisory Committee on Immunization Practices (ACIP) to maintain the recommendation of a universal hepatitis B birth dose in the United States. As a global leader in childhood immunizations, America has a responsibility to uphold science-based policies that protect all infants, children, and adults from preventable diseases like hepatitis B. Universal birth dose vaccination is simple, safe, and highly effective, and it safeguards every baby, regardless of perceived risk or circumstance, and helps close gaps in a fragmented healthcare system.\nEarly administration of the hepatitis B vaccine is perhaps one of the most critical components of this immunization, as age has a direct correlation with the likelihood of developing a chronic infection. Approximately 90% of infants who are exposed to hepatitis B will develop a chronic infection, placing them at a significantly increased risk of cirrhosis and liver cancer later in life. In the U.S., before universal childhood vaccination was recommended, an estimated 18,000 children were infected with hepatitis B each year before age 10. Nearly half of these infections were transmitted from mother to child at birth. Many of the remaining 9,000 children had no known exposures to the virus. Now this number is down to almost zero1. As a nation, we cannot afford to go backwards.  \nHepatitis B is endemic to our patient population with most patients getting the disease from vertical transmission from their mother.  One of our patients, a young man 30 years of age, contracted the disease in this manner.   He did not receive childhood vaccines and his Hepatitis B led to Hepatocellular carcinoma.  He died last year in July and left an infant son and young wife.    Simply put the administration of Hepatitis B Immunoglobulin and Hepatitis B vaccine at birth followed by two additional vaccines at 4 months and 6 months would have prevented this young man’s death. \n\nWe actively screen all patients for Hepatitis B and provide vaccines to those who qualify based on that screening.  The evidence surrounding the efficacy of the vaccine and prevention of contracting hepatitis based hepatocellular carcinoma is unparalleled.    \nIt is well-documented that the hepatitis B vaccine is extremely safe for newborns. More than four decades of research and surveillance conducted by the Centers for Disease Control and Prevention (CDC) have shown that most side effects are mild and typical of vaccines, such as soreness at the injection site or a low-grade fever.2 Since its introduction in 1986, the vaccine has been administered over one billion times worldwide, providing millions of children with lifelong protection against this dangerous infection.\nMost countries support the universal birth dose and follow the World Health Organization’s (WHO) and U.S. Centers for Disease Control and Prevention (CDC) recommendations to administer the hepatitis B vaccine to all infants within the first 24 hours of birth. Some have suggested that the U.S. should adopt a policy of vaccinating only babies born to infected mothers, as is done in other parts of the world.. Community organizations and health systems in the U.S. currently struggle to identify those living with the disease, which makes disease diagnosis and treatment tougher than disease prevention. The U.S. lacks the public health infrastructure to ensure that all at-risk babies receive the birth dose in a timely manner, making universal vaccination the safest and most effective approach.\nFurthermore, history shows that universal hepatitis B vaccination is the only reliable way to prevent transmission of hepatitis B. Since implementing the birth dose, the U.S. has prevented over 500,000 childhood infections, reduced infant hepatitis B cases by 95%, and prevented an estimated 90,100 childhood deaths.3 Up to 2.4 million people in the U.S. are currently living with hepatitis B, yet roughly 70% remain undiagnosed. This undetected population places babies and children at risk of accidental exposure to this cancer-causing virus.\nWe firmly believe that every parent has the right to make informed decisions for their children. However, those decisions must be guided by clear, objective, and scientifically rigorous recommendations. Eliminating the universal recommendation would create unnecessary barriers and confusion, limiting access to the vaccine and undermining parents’ ability to choose to protect their babies.\nTherefore, I urge the Advisory Committee on Immunization Practices (ACIP) and all relevant authorities to stand firmly behind science, prevention, and the continued protection of our youngest and most vulnerable citizens by maintaining the universal hepatitis B birth dose.\n\nDr Beth Weitensteiner, DO, FAWM, FAAFP\nInternational Community Health Services\n\n"
        ],
        [
         "37",
         "CDC-2025-0454-0039",
         "We want actual proven science backed information. We know vaccines are safe and effective. Give us our vaccines. "
        ],
        [
         "38",
         "CDC-2025-0454-0040",
         "Vaccines are critical for this country's health - both adults and children. Please listen and pay attention to what SCIENTISTS have to say, and stop coming up with conspiracies. Allow vaccinations as we have had for the last few years. Why you would rather have thousands (or millions) of people die (especially those who are already immune compromised for other reasons) die because you support theories that are nonsense makes absolutely no sense. Obviously, you or someone you love is not at risk (or at least you don't think they are). REAL SCIENTISTS know more than people like you that don't study these matters for years and years. Stopping funding for the newest vaccines is not in this country's best interests."
        ],
        [
         "39",
         "CDC-2025-0454-0041",
         "Vaccines save lives. The covid vaccine is the reason I still have a mom. It’s the reason so many lives were saved. I should be able to continue to vaccinate myself and my family this fall."
        ],
        [
         "40",
         "CDC-2025-0454-0042",
         "Please don’t restrict covid vaccine access to people of Louisiana. A lot of us are suffering with long covid & the only treatment that helps me is the vaccines. I get more energy & less inflammation and over a few months it wanes & the long covid symptoms return. I’m only 38 years old . "
        ],
        [
         "41",
         "CDC-2025-0454-0043",
         "Please make COVID-19 vaccines regularly available and allow us to make our own choices for our health. "
        ],
        [
         "42",
         "CDC-2025-0454-0044",
         "We need universal access to the updated Covid vaccine! If we choose to get the vaccine we should be able to access it without having to get an RX from a doctor like we have for the past 5 years. "
        ],
        [
         "43",
         "CDC-2025-0454-0045",
         " I am a registered nurse with over 45 years experience in various health care areas. The common thread that runs through all my professional experience is the practice of evidence based health care. Unfortunately, the health of the US is imperiled by the harmful decisions of HHS recent decisions on vaccines which are not based on quality science nor what experienced health care providers and their professional organizations advocate. Please note that various state health agencies are taking steps to support vaccination schedules advocated by relevant professional health care organizations such as The American Academy of Pediatrics rather than those proposed by HHS. Please follow the established science. \n"
        ],
        [
         "44",
         "CDC-2025-0454-0046",
         "It is disgraceful you have not recommended the new covid vaccine.  I am 65.  I want one.  Even though my drug store has the new vaccine in stock I cannot get one.   They said I need a prescription from my doctor.  My doctor cannot.write me a prescription because the health system.he works for has not given him the okay to write prescriptions for the new covid vaccine.  So I am caught in a big catch 22.  The preventative health care I need is available but no one will provide it.  Want to know what the pharmacist as CVS told me.  They have the vaccine on hand but cannot dispense it because the CDC has not approved it.   From where I am sitting, it just looks like you want older people to die.  And dying from covid is a horrible death.  I only hope the lives of all those who will die needlessly over your Vaccine Ideology helps you feels better."
        ],
        [
         "45",
         "CDC-2025-0454-0047",
         "Please allow us to get vaccines that we decide are needed with our medical professionals. I believe it should be allowed a minimum of 2x per year for everyone. Including before school starts in Aug. there are currently lots of kids out sick with Covid."
        ],
        [
         "46",
         "CDC-2025-0454-0048",
         "Emergency medicine doctor here. I’ve really enjoyed not admitting people for hypoxia, doing lumbar punctures on infants, and other things that would give non-EM doctors nightmares. Why have I enjoyed this - Vaccines. "
        ],
        [
         "47",
         "CDC-2025-0454-0049",
         "Please continue to follow the recommendations of scientists and make the COVID vaccine easily available, without age restrictions, everywhere. I know people who have had their lives and careers destroyed by Long COVID, and the vaccines are clinically shown to be incredibly effective; it's super rare for anything to have success rates in the 90% range but COVID vaccines do, both for severe symptom reduction and recovery, and the help with transmission is huge! It's vital that not just high-risk people but all who live in frequent contact with high-risk people (like caregivers, family, housemates, close colleagues at work) be able to regularly update their COVID vaccinations so we can help keep people healthy and working instead of inviting unnecessary risks of long-term disability. High-risk people usually love their jobs and want to work, and don't want COVID to prevent it. Among other things please:\n\nReduce the new COVID restrictions, they're harmful and against the recommendations of scientists\nKeep the universal vaccine recommendation for all ages\nLet people with high-risk or lots of contact with high-risk people get at least 2 doses a year\nEnsure insurance coverage for COVID vaccines - it's expensive and I've paid out of pocket for many friends who couldn't afford it but I can't pay for everyone\nKeep COVID vaccines on the shared clinical decision making list and restore BRIDGE access program\nReinstate the COVID vaccine guidelines as they were before these new changes!\n"
        ],
        [
         "48",
         "CDC-2025-0454-0050",
         "Please restore the old guidelines for Covid vaccine availability. You pledged to be the champions of giving Americans the freedom to make their own healthcare decisions. The proposed new guidelines will severely limit access to vaccines that many people need and want for themselves & their families. Thank you. "
        ],
        [
         "49",
         "CDC-2025-0454-0051",
         "The COVID-19, Hep B, MMRV, and RSV vaccines have saved millions of lives globally (including preventing both death and severe disability), and it is essential as a matter of urgent public health that these continue to be available and recommended to all age groups. The safety of these vaccines has already been amply proven, and it would be a breach of scientific integrity to deny them to Americans who are looking to protect themselves and others from these devastating diseases. As a new mother I want to use every available tool to protect my child’s health going forward, and access to these vaccines is the first and most fundamental step I can take to keep my baby healthy and safe."
        ]
       ],
       "shape": {
        "columns": 2,
        "rows": 28756
       }
      },
      "text/html": [
       "<div>\n",
       "<style scoped>\n",
       "    .dataframe tbody tr th:only-of-type {\n",
       "        vertical-align: middle;\n",
       "    }\n",
       "\n",
       "    .dataframe tbody tr th {\n",
       "        vertical-align: top;\n",
       "    }\n",
       "\n",
       "    .dataframe thead th {\n",
       "        text-align: right;\n",
       "    }\n",
       "</style>\n",
       "<table border=\"1\" class=\"dataframe\">\n",
       "  <thead>\n",
       "    <tr style=\"text-align: right;\">\n",
       "      <th></th>\n",
       "      <th>Document ID</th>\n",
       "      <th>Comment</th>\n",
       "    </tr>\n",
       "  </thead>\n",
       "  <tbody>\n",
       "    <tr>\n",
       "      <th>0</th>\n",
       "      <td>CDC-2025-0454-0002</td>\n",
       "      <td>The new restrictions on COVID vaccines only ma...</td>\n",
       "    </tr>\n",
       "    <tr>\n",
       "      <th>1</th>\n",
       "      <td>CDC-2025-0454-0003</td>\n",
       "      <td>Please follow the science and not politics. Th...</td>\n",
       "    </tr>\n",
       "    <tr>\n",
       "      <th>2</th>\n",
       "      <td>CDC-2025-0454-0004</td>\n",
       "      <td>Each year on July 28, we come together to reco...</td>\n",
       "    </tr>\n",
       "    <tr>\n",
       "      <th>3</th>\n",
       "      <td>CDC-2025-0454-0005</td>\n",
       "      <td>The ACIP must uphold evidence-based immunizati...</td>\n",
       "    </tr>\n",
       "    <tr>\n",
       "      <th>4</th>\n",
       "      <td>CDC-2025-0454-0006</td>\n",
       "      <td>Vaccines are proven science. The hysteria that...</td>\n",
       "    </tr>\n",
       "    <tr>\n",
       "      <th>...</th>\n",
       "      <td>...</td>\n",
       "      <td>...</td>\n",
       "    </tr>\n",
       "    <tr>\n",
       "      <th>28751</th>\n",
       "      <td>ED-2025-OPE-0016-7220</td>\n",
       "      <td>Secretary of Education Linda McMahon,\\n\\nDear ...</td>\n",
       "    </tr>\n",
       "    <tr>\n",
       "      <th>28752</th>\n",
       "      <td>ED-2025-OPE-0016-DRAFT-7210</td>\n",
       "      <td>Hello.\\n\\nAs a public servant who works with A...</td>\n",
       "    </tr>\n",
       "    <tr>\n",
       "      <th>28753</th>\n",
       "      <td>ED-2025-OPE-0016-DRAFT-7211</td>\n",
       "      <td>Thank you for the opportunity to present. I am...</td>\n",
       "    </tr>\n",
       "    <tr>\n",
       "      <th>28754</th>\n",
       "      <td>ED-2025-OPE-0016-DRAFT-7212</td>\n",
       "      <td>To Whom it may concern,\\n\\nStudent loans had b...</td>\n",
       "    </tr>\n",
       "    <tr>\n",
       "      <th>28755</th>\n",
       "      <td>ED-2025-OPE-0016-DRAFT-7214</td>\n",
       "      <td>I think revising student loan payment plans is...</td>\n",
       "    </tr>\n",
       "  </tbody>\n",
       "</table>\n",
       "<p>28756 rows × 2 columns</p>\n",
       "</div>"
      ],
      "text/plain": [
       "                       Document ID  \\\n",
       "0               CDC-2025-0454-0002   \n",
       "1               CDC-2025-0454-0003   \n",
       "2               CDC-2025-0454-0004   \n",
       "3               CDC-2025-0454-0005   \n",
       "4               CDC-2025-0454-0006   \n",
       "...                            ...   \n",
       "28751        ED-2025-OPE-0016-7220   \n",
       "28752  ED-2025-OPE-0016-DRAFT-7210   \n",
       "28753  ED-2025-OPE-0016-DRAFT-7211   \n",
       "28754  ED-2025-OPE-0016-DRAFT-7212   \n",
       "28755  ED-2025-OPE-0016-DRAFT-7214   \n",
       "\n",
       "                                                 Comment  \n",
       "0      The new restrictions on COVID vaccines only ma...  \n",
       "1      Please follow the science and not politics. Th...  \n",
       "2      Each year on July 28, we come together to reco...  \n",
       "3      The ACIP must uphold evidence-based immunizati...  \n",
       "4      Vaccines are proven science. The hysteria that...  \n",
       "...                                                  ...  \n",
       "28751  Secretary of Education Linda McMahon,\\n\\nDear ...  \n",
       "28752  Hello.\\n\\nAs a public servant who works with A...  \n",
       "28753  Thank you for the opportunity to present. I am...  \n",
       "28754  To Whom it may concern,\\n\\nStudent loans had b...  \n",
       "28755  I think revising student loan payment plans is...  \n",
       "\n",
       "[28756 rows x 2 columns]"
      ]
     },
     "execution_count": 3,
     "metadata": {},
     "output_type": "execute_result"
    }
   ],
   "source": [
    "df"
   ]
  },
  {
   "cell_type": "code",
   "execution_count": 4,
   "id": "0194c9d8",
   "metadata": {},
   "outputs": [
    {
     "name": "stdout",
     "output_type": "stream",
     "text": [
      "<class 'pandas.core.frame.DataFrame'>\n",
      "RangeIndex: 28756 entries, 0 to 28755\n",
      "Data columns (total 2 columns):\n",
      " #   Column       Non-Null Count  Dtype \n",
      "---  ------       --------------  ----- \n",
      " 0   Document ID  28756 non-null  object\n",
      " 1   Comment      28754 non-null  object\n",
      "dtypes: object(2)\n",
      "memory usage: 449.4+ KB\n"
     ]
    }
   ],
   "source": [
    "df.info()"
   ]
  },
  {
   "cell_type": "code",
   "execution_count": 5,
   "id": "be25b7a5",
   "metadata": {},
   "outputs": [
    {
     "name": "stdout",
     "output_type": "stream",
     "text": [
      "True\n"
     ]
    }
   ],
   "source": [
    "import torch\n",
    "print(torch.cuda.is_available())  # Should print True if GPU is available"
   ]
  },
  {
   "cell_type": "code",
   "execution_count": 6,
   "id": "b6308622",
   "metadata": {},
   "outputs": [
    {
     "name": "stdout",
     "output_type": "stream",
     "text": [
      "2.8.0+cu126\n",
      "12.6\n",
      "True\n"
     ]
    }
   ],
   "source": [
    "import torch\n",
    "print(torch.__version__)\n",
    "print(torch.version.cuda)\n",
    "print(torch.backends.cudnn.enabled)\n"
   ]
  },
  {
   "cell_type": "code",
   "execution_count": null,
   "id": "6a2207f5",
   "metadata": {},
   "outputs": [],
   "source": [
    "# import torch\n",
    "# from transformers import AutoTokenizer, AutoModelForSequenceClassification, TextClassificationPipeline\n",
    "# import tqdm\n",
    "\n",
    "#  # Check if CUDA is available\n",
    "# use_cuda = torch.cuda.is_available()\n",
    "# device = 0 if use_cuda else -1\n",
    "\n",
    "# print(\"Using GPU?\", use_cuda)\n",
    "\n",
    "#  # Load model and tokenizer\n",
    "# model_name = \"nlptown/bert-base-multilingual-uncased-sentiment\"\n",
    "# tokenizer = AutoTokenizer.from_pretrained(model_name)\n",
    "# model = AutoModelForSequenceClassification.from_pretrained(model_name)\n",
    "\n",
    "#  # Create pipeline\n",
    "# sentiment_analyzer = TextClassificationPipeline(\n",
    "#      model=model,\n",
    "#      tokenizer=tokenizer,\n",
    "#      device=device\n",
    "#  )\n",
    "\n",
    "#  # Prepare comments\n",
    "# comments = df['Comment'].tolist()\n",
    "# batch_size = 32\n",
    "# results = []\n",
    "\n",
    "# for i in tqdm.tqdm(range(0, len(comments), batch_size), desc=\"Processing batches\"):\n",
    "#      batch = comments[i:i+batch_size]\n",
    "#      try:\n",
    "#          batch_results = sentiment_analyzer(batch, truncation=True, padding=True, max_length=512)\n",
    "#      except Exception as e:\n",
    "#          print(f\"Error in batch {i}-{i+batch_size}: {e}\")\n",
    "#          batch_results = [{'label': '3 stars'} for _ in batch]\n",
    "#      results.extend(batch_results)\n",
    "\n",
    "#  # Map labels\n",
    "# def map_label(label):\n",
    "#      if label in ['1 star', '2 stars']:\n",
    "#          return \"Negative\"\n",
    "#      elif label == '3 stars':\n",
    "#          return \"Neutral\"\n",
    "#      else:\n",
    "#          return \"Positive\"\n",
    "\n",
    "#  # Add to DataFrame\n",
    "# df['Sentiment'] = [map_label(result['label']) for result in results]\n",
    "\n",
    "#  # Save output\n",
    "# df.to_csv('comment_data_with_sentimentam.csv', index=False)\n",
    "# print(\"Sentiment analysis complete!\")\n",
    "# print(df.head())\n"
   ]
  },
  {
   "cell_type": "code",
   "execution_count": 8,
   "id": "af83b784",
   "metadata": {},
   "outputs": [],
   "source": [
    "senti_df = pd.read_csv(\"comment_data_with_sentimentam.csv\")"
   ]
  },
  {
   "cell_type": "code",
   "execution_count": 9,
   "id": "a95960b2",
   "metadata": {},
   "outputs": [
    {
     "data": {
      "application/vnd.microsoft.datawrangler.viewer.v0+json": {
       "columns": [
        {
         "name": "index",
         "rawType": "object",
         "type": "string"
        },
        {
         "name": "0",
         "rawType": "object",
         "type": "unknown"
        }
       ],
       "ref": "d8df00ae-4c33-4ae8-afc0-8a3fc9c929de",
       "rows": [
        [
         "Document ID",
         "object"
        ],
        [
         "Comment",
         "object"
        ],
        [
         "Sentiment",
         "object"
        ]
       ],
       "shape": {
        "columns": 1,
        "rows": 3
       }
      },
      "text/plain": [
       "Document ID    object\n",
       "Comment        object\n",
       "Sentiment      object\n",
       "dtype: object"
      ]
     },
     "execution_count": 9,
     "metadata": {},
     "output_type": "execute_result"
    }
   ],
   "source": [
    "senti_df.dtypes.head()"
   ]
  },
  {
   "cell_type": "code",
   "execution_count": 10,
   "id": "73f022ee",
   "metadata": {},
   "outputs": [
    {
     "data": {
      "image/png": "[encoded data removed]",
      "text/plain": [
       "<Figure size 800x600 with 1 Axes>"
      ]
     },
     "metadata": {},
     "output_type": "display_data"
    }
   ],
   "source": [
    "import matplotlib.pyplot as plt\n",
    "\n",
    "# Count the occurrences of each sentiment category\n",
    "sentiment_counts = senti_df['Sentiment'].value_counts()\n",
    "\n",
    "# Plot the distribution\n",
    "plt.figure(figsize=(8, 6))\n",
    "sentiment_counts.plot(kind='bar', color=['green', 'gray', 'red'])\n",
    "plt.title('Sentiment Distribution')\n",
    "plt.xlabel('Sentiment')\n",
    "plt.ylabel('Number of Comments')\n",
    "plt.xticks(rotation=0)\n",
    "plt.grid(axis='y')\n",
    "plt.show()\n"
   ]
  },
  {
   "cell_type": "code",
   "execution_count": 11,
   "id": "c0af98df",
   "metadata": {},
   "outputs": [
    {
     "name": "stdout",
     "output_type": "stream",
     "text": [
      "Docket ID: Docket_1, Sentiment: Negative\n",
      "  Docket ID Sentiment  TF-IDF Score  \\\n",
      "0  Docket_1  Negative     13.655711   \n",
      "1  Docket_1  Negative     13.516546   \n",
      "2  Docket_1  Negative     13.394677   \n",
      "3  Docket_1  Negative     13.196195   \n",
      "4  Docket_1  Negative     13.164498   \n",
      "5  Docket_1  Negative     13.134579   \n",
      "6  Docket_1  Negative     13.049843   \n",
      "7  Docket_1  Negative     13.009427   \n",
      "8  Docket_1  Negative     12.968723   \n",
      "9  Docket_1  Negative     12.959151   \n",
      "\n",
      "                                             Comment  \n",
      "0  Subject: Substantive Comment Opposing DHS Dock...  \n",
      "1  As a current F-1 visa holder and international...  \n",
      "2  I am writing to express my strong opposition t...  \n",
      "3  I am writing to express my strong opposition t...  \n",
      "4  Dear Sir/Madam:\\n\\nI write to respectfully opp...  \n",
      "5  Subject: Opposition to DHS Proposed Rule\\nDock...  \n",
      "6  Dear Sir or Madam,\\n\\nI am writing to respectf...  \n",
      "7  I write to respectfully oppose the proposed ru...  \n",
      "8  As a California resident who works in tech ind...  \n",
      "9  I respectfully submit this comment in strong o...  \n",
      "------------------------------------------------------------\n",
      "Docket ID: Docket_1, Sentiment: Neutral\n",
      "     Docket ID Sentiment  TF-IDF Score  \\\n",
      "9574  Docket_1   Neutral     10.478238   \n",
      "9575  Docket_1   Neutral     10.198006   \n",
      "9576  Docket_1   Neutral     10.157428   \n",
      "9577  Docket_1   Neutral      9.914802   \n",
      "9578  Docket_1   Neutral      9.626136   \n",
      "9579  Docket_1   Neutral      9.501136   \n",
      "9580  Docket_1   Neutral      9.413242   \n",
      "9581  Docket_1   Neutral      9.396621   \n",
      "9582  Docket_1   Neutral      9.339501   \n",
      "9583  Docket_1   Neutral      9.329818   \n",
      "\n",
      "                                                Comment  \n",
      "9574  I appreciate the Department’s goal of clarity ...  \n",
      "9575  Docket No. ICEB-2025-0001, OMB Control Number ...  \n",
      "9576  Re: DHS Docket No. ICEB–2025–0001 — Establishi...  \n",
      "9577  While this may seem like a minor regulatory ad...  \n",
      "9578  As an HR Manager at a mid-sized U.S. company, ...  \n",
      "9579  I appreciate the Department of Homeland Securi...  \n",
      "9580  To whom it may concern,\\n\\nI am submitting fee...  \n",
      "9581  Comment on Proposed Rule: Establishing a Fixed...  \n",
      "9582  I am opposed to EPAs proposal to rescind the 2...  \n",
      "9583  The summary section of this document outlines ...  \n",
      "------------------------------------------------------------\n",
      "Docket ID: Docket_1, Sentiment: Positive\n",
      "      Docket ID Sentiment  TF-IDF Score  \\\n",
      "19524  Docket_1  Positive     11.836979   \n",
      "19525  Docket_1  Positive     11.793261   \n",
      "19526  Docket_1  Positive     11.787649   \n",
      "19527  Docket_1  Positive     11.733022   \n",
      "19528  Docket_1  Positive     11.701244   \n",
      "19529  Docket_1  Positive     11.683204   \n",
      "19530  Docket_1  Positive     11.680213   \n",
      "19531  Docket_1  Positive     11.667949   \n",
      "19532  Docket_1  Positive     11.642573   \n",
      "19533  Docket_1  Positive     11.639189   \n",
      "\n",
      "                                                 Comment  \n",
      "19524  As an infectious diseases health care professi...  \n",
      "19525  As a pediatric nurse practitioner, I am writin...  \n",
      "19526  As an infectious diseases health care professi...  \n",
      "19527  As an infectious diseases physician caring pri...  \n",
      "19528  As an infectious diseases physician working in...  \n",
      "19529  As an infectious diseases health care professi...  \n",
      "19530  As an infectious diseases health care professi...  \n",
      "19531  I have been a practicing physician in the fiel...  \n",
      "19532  As an infectious diseases health care professi...  \n",
      "19533  As an infectious diseases health care professi...  \n",
      "------------------------------------------------------------\n"
     ]
    }
   ],
   "source": [
    "from sklearn.feature_extraction.text import TfidfVectorizer\n",
    "import pandas as pd\n",
    "\n",
    "df = pd.read_csv('comment_data_with_sentimentam.csv')\n",
    "df['Comment'] = df['Comment'].fillna('')\n",
    "df['Docket ID'] = \"Docket_1\"   # <-- add dummy ID since only one exists\n",
    "\n",
    "result_df = pd.DataFrame()\n",
    "grouped = df.groupby(['Docket ID', 'Sentiment'])\n",
    "\n",
    "for (docket_id, sentiment), group in grouped:\n",
    "    cluster_df = group.copy()\n",
    "    vectorizer = TfidfVectorizer(stop_words='english', max_features=1000)\n",
    "    tfidf_matrix = vectorizer.fit_transform(cluster_df['Comment'])\n",
    "    tfidf_scores = tfidf_matrix.sum(axis=1).A1\n",
    "    cluster_df['TF-IDF Score'] = tfidf_scores\n",
    "    result_df = pd.concat([result_df, cluster_df])\n",
    "\n",
    "result_df = result_df.sort_values(\n",
    "    by=['Docket ID', 'Sentiment', 'TF-IDF Score'],\n",
    "    ascending=[True, True, False]\n",
    ").reset_index(drop=True)\n",
    "\n",
    "for (docket_id, sentiment), group in result_df.groupby(['Docket ID', 'Sentiment']):\n",
    "    print(f\"Docket ID: {docket_id}, Sentiment: {sentiment}\")\n",
    "    print(group[['Docket ID', 'Sentiment', 'TF-IDF Score', 'Comment']].head(10))\n",
    "    print(\"-\" * 60)\n",
    "\n",
    "result_df.to_csv('comment_data_by_docket_tfidf.csv', index=False)\n"
   ]
  },
  {
   "cell_type": "code",
   "execution_count": 12,
   "id": "443793ca",
   "metadata": {},
   "outputs": [
    {
     "name": "stdout",
     "output_type": "stream",
     "text": [
      "✅ Top 5% TF-IDF comments saved to 'comment_data_by_docket_tfidf_top5.csv'\n"
     ]
    }
   ],
   "source": [
    "from sklearn.feature_extraction.text import TfidfVectorizer\n",
    "import pandas as pd\n",
    "\n",
    "# Load dataset\n",
    "df = pd.read_csv('comment_data_with_sentimentam.csv')\n",
    "\n",
    "# Fill missing comments\n",
    "df['Comment'] = df['Comment'].fillna('')\n",
    "\n",
    "# Add dummy Docket ID since only one exists\n",
    "df['Docket ID'] = \"Docket_1\"\n",
    "\n",
    "# Initialize result DataFrame\n",
    "result_df = pd.DataFrame()\n",
    "\n",
    "# Group by Docket ID and Sentiment\n",
    "grouped = df.groupby(['Docket ID', 'Sentiment'])\n",
    "\n",
    "for (docket_id, sentiment), group in grouped:\n",
    "    cluster_df = group.copy()\n",
    "    vectorizer = TfidfVectorizer(stop_words='english', max_features=1000)\n",
    "    tfidf_matrix = vectorizer.fit_transform(cluster_df['Comment'])\n",
    "    tfidf_scores = tfidf_matrix.sum(axis=1).A1\n",
    "    cluster_df['TF-IDF Score'] = tfidf_scores\n",
    "    result_df = pd.concat([result_df, cluster_df])\n",
    "\n",
    "# Sort results\n",
    "result_df = result_df.sort_values(\n",
    "    by=['Docket ID', 'Sentiment', 'TF-IDF Score'],\n",
    "    ascending=[True, True, False]\n",
    ").reset_index(drop=True)\n",
    "\n",
    "# ---- Select top 5% comments per sentiment ----\n",
    "top_comments = pd.DataFrame()\n",
    "\n",
    "for (docket_id, sentiment), group in result_df.groupby(['Docket ID', 'Sentiment']):\n",
    "    top_n = max(1, int(0.05 * len(group)))  # Ensure at least 1\n",
    "    top_group = group.head(top_n)\n",
    "    top_comments = pd.concat([top_comments, top_group])\n",
    "\n",
    "# Save top comments only\n",
    "top_comments.to_csv('comment_data_by_docket_tfidf_top5.csv', index=False)\n",
    "\n",
    "print(\"✅ Top 5% TF-IDF comments saved to 'comment_data_by_docket_tfidf_top5.csv'\")\n"
   ]
  }
 ],
 "metadata": {
  "kernelspec": {
   "display_name": "mca",
   "language": "python",
   "name": "python3"
  },
  "language_info": {
   "codemirror_mode": {
    "name": "ipython",
    "version": 3
   },
   "file_extension": ".py",
   "mimetype": "text/x-python",
   "name": "python",
   "nbconvert_exporter": "python",
   "pygments_lexer": "ipython3",
   "version": "3.10.9"
  }
 },
 "nbformat": 4,
 "nbformat_minor": 5
}
